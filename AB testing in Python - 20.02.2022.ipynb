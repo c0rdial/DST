{
 "cells": [
  {
   "cell_type": "markdown",
   "id": "5a19c19b",
   "metadata": {},
   "source": [
    "### A/B Testing in Python\n",
    "\n",
    "- The purpose of this tutorial :\n",
    "1. Learn the process of analyzing an A/B testing from explaining the basic knowledge to formulate the hypothesis and interpreting the results to estimate which ad asset results in more sales"
   ]
  },
  {
   "cell_type": "markdown",
   "id": "153b97c8",
   "metadata": {},
   "source": [
    "### Data exploration"
   ]
  },
  {
   "cell_type": "code",
   "execution_count": 25,
   "id": "1c0d1e06",
   "metadata": {},
   "outputs": [],
   "source": [
    "#import libraries \n",
    "import pandas as pd\n",
    "import numpy as np\n",
    "import random \n",
    "import matplotlib as mpl\n",
    "import matplotlib.pyplot as plt\n",
    "import seaborn as sns\n",
    "from scipy import stats\n",
    "%matplotlib inline\n",
    "random.seed(42)"
   ]
  },
  {
   "cell_type": "code",
   "execution_count": 26,
   "id": "3f42b0de",
   "metadata": {},
   "outputs": [
    {
     "name": "stdout",
     "output_type": "stream",
     "text": [
      "(294478, 5)\n"
     ]
    }
   ],
   "source": [
    "# data exploration\n",
    "df = pd.read_csv(\"downloads/data.csv\")\n",
    "print(df.shape)"
   ]
  },
  {
   "cell_type": "code",
   "execution_count": 27,
   "id": "34cf2e6d",
   "metadata": {},
   "outputs": [
    {
     "data": {
      "text/html": [
       "<div>\n",
       "<style scoped>\n",
       "    .dataframe tbody tr th:only-of-type {\n",
       "        vertical-align: middle;\n",
       "    }\n",
       "\n",
       "    .dataframe tbody tr th {\n",
       "        vertical-align: top;\n",
       "    }\n",
       "\n",
       "    .dataframe thead th {\n",
       "        text-align: right;\n",
       "    }\n",
       "</style>\n",
       "<table border=\"1\" class=\"dataframe\">\n",
       "  <thead>\n",
       "    <tr style=\"text-align: right;\">\n",
       "      <th></th>\n",
       "      <th>user_id</th>\n",
       "      <th>timestamp</th>\n",
       "      <th>group</th>\n",
       "      <th>landing_page</th>\n",
       "      <th>converted</th>\n",
       "    </tr>\n",
       "  </thead>\n",
       "  <tbody>\n",
       "    <tr>\n",
       "      <th>0</th>\n",
       "      <td>851104</td>\n",
       "      <td>2017-01-21 22:11:48.556739</td>\n",
       "      <td>control</td>\n",
       "      <td>old_page</td>\n",
       "      <td>0</td>\n",
       "    </tr>\n",
       "    <tr>\n",
       "      <th>1</th>\n",
       "      <td>804228</td>\n",
       "      <td>2017-01-12 08:01:45.159739</td>\n",
       "      <td>control</td>\n",
       "      <td>old_page</td>\n",
       "      <td>0</td>\n",
       "    </tr>\n",
       "    <tr>\n",
       "      <th>2</th>\n",
       "      <td>661590</td>\n",
       "      <td>2017-01-11 16:55:06.154213</td>\n",
       "      <td>treatment</td>\n",
       "      <td>new_page</td>\n",
       "      <td>0</td>\n",
       "    </tr>\n",
       "    <tr>\n",
       "      <th>3</th>\n",
       "      <td>853541</td>\n",
       "      <td>2017-01-08 18:28:03.143765</td>\n",
       "      <td>treatment</td>\n",
       "      <td>new_page</td>\n",
       "      <td>0</td>\n",
       "    </tr>\n",
       "    <tr>\n",
       "      <th>4</th>\n",
       "      <td>864975</td>\n",
       "      <td>2017-01-21 01:52:26.210827</td>\n",
       "      <td>control</td>\n",
       "      <td>old_page</td>\n",
       "      <td>1</td>\n",
       "    </tr>\n",
       "  </tbody>\n",
       "</table>\n",
       "</div>"
      ],
      "text/plain": [
       "   user_id                   timestamp      group landing_page  converted\n",
       "0   851104  2017-01-21 22:11:48.556739    control     old_page          0\n",
       "1   804228  2017-01-12 08:01:45.159739    control     old_page          0\n",
       "2   661590  2017-01-11 16:55:06.154213  treatment     new_page          0\n",
       "3   853541  2017-01-08 18:28:03.143765  treatment     new_page          0\n",
       "4   864975  2017-01-21 01:52:26.210827    control     old_page          1"
      ]
     },
     "execution_count": 27,
     "metadata": {},
     "output_type": "execute_result"
    }
   ],
   "source": [
    "df.head()"
   ]
  },
  {
   "cell_type": "markdown",
   "id": "b09cbab9",
   "metadata": {},
   "source": [
    "control group : users who visit the old design page.\n",
    "\n",
    "treatment group: users who visit the new design page.\n",
    "\n",
    "converted = 0: users did not buy the product.\n",
    "\n",
    "converted = 1: users bought the product."
   ]
  },
  {
   "cell_type": "code",
   "execution_count": 28,
   "id": "f6e54554",
   "metadata": {},
   "outputs": [
    {
     "name": "stdout",
     "output_type": "stream",
     "text": [
      "The number of users that appear multiple times in the dataset: 3894\n"
     ]
    }
   ],
   "source": [
    "session_counts = df['user_id'].value_counts(ascending=False)\n",
    "multi_sessions = session_counts[session_counts > 1].count()\n",
    "\n",
    "print(f'The number of users that appear multiple times in the dataset: {multi_sessions}')"
   ]
  },
  {
   "cell_type": "code",
   "execution_count": 29,
   "id": "139d5e3d",
   "metadata": {},
   "outputs": [
    {
     "name": "stdout",
     "output_type": "stream",
     "text": [
      "The updated dataset now has 286690 entries\n"
     ]
    },
    {
     "data": {
      "text/html": [
       "<div>\n",
       "<style scoped>\n",
       "    .dataframe tbody tr th:only-of-type {\n",
       "        vertical-align: middle;\n",
       "    }\n",
       "\n",
       "    .dataframe tbody tr th {\n",
       "        vertical-align: top;\n",
       "    }\n",
       "\n",
       "    .dataframe thead th {\n",
       "        text-align: right;\n",
       "    }\n",
       "</style>\n",
       "<table border=\"1\" class=\"dataframe\">\n",
       "  <thead>\n",
       "    <tr style=\"text-align: right;\">\n",
       "      <th>landing_page</th>\n",
       "      <th>new_page</th>\n",
       "      <th>old_page</th>\n",
       "    </tr>\n",
       "    <tr>\n",
       "      <th>group</th>\n",
       "      <th></th>\n",
       "      <th></th>\n",
       "    </tr>\n",
       "  </thead>\n",
       "  <tbody>\n",
       "    <tr>\n",
       "      <th>control</th>\n",
       "      <td>0</td>\n",
       "      <td>143293</td>\n",
       "    </tr>\n",
       "    <tr>\n",
       "      <th>treatment</th>\n",
       "      <td>143397</td>\n",
       "      <td>0</td>\n",
       "    </tr>\n",
       "  </tbody>\n",
       "</table>\n",
       "</div>"
      ],
      "text/plain": [
       "landing_page  new_page  old_page\n",
       "group                           \n",
       "control              0    143293\n",
       "treatment       143397         0"
      ]
     },
     "execution_count": 29,
     "metadata": {},
     "output_type": "execute_result"
    }
   ],
   "source": [
    "users_to_drop = session_counts[session_counts > 1].index\n",
    "df = df[~df['user_id'].isin(users_to_drop)]\n",
    "print(f'The updated dataset now has {df.shape[0]} entries')\n",
    "\n",
    "#Now we can see ther user experience only one page\n",
    "pd.crosstab(df['group'],df['landing_page'])"
   ]
  },
  {
   "cell_type": "markdown",
   "id": "6b82131a",
   "metadata": {},
   "source": [
    "### The Hypotheses:\n",
    "\n",
    "The hypothesis is that the new design performs better than the old design and leads to a higher conversion rate.\n",
    "\n",
    "Null Hypothesis H : p = p Two design have the same impact\n",
    "\n",
    "Alternative hypothesis H : ≠ p two design s have the different impacts,\n",
    "\n",
    "where p and p are the conversion rate of the new and old design respectively, and the confidence level is 95%\n",
    "\n",
    "if the null hypothesis is true, it means there is no significant difference between your treatment and control group.\n",
    "Basically, the lower p-value the better"
   ]
  },
  {
   "cell_type": "code",
   "execution_count": 30,
   "id": "834ae331",
   "metadata": {},
   "outputs": [
    {
     "name": "stdout",
     "output_type": "stream",
     "text": [
      "           conversion_rate  std_deviation  std_error\n",
      "group                                               \n",
      "control           0.120173       0.325164   0.000859\n",
      "treatment         0.118726       0.323466   0.000854\n"
     ]
    },
    {
     "data": {
      "image/png": "[encoded data removed]",
      "text/plain": [
       "<Figure size 576x432 with 1 Axes>"
      ]
     },
     "metadata": {
      "needs_background": "light"
     },
     "output_type": "display_data"
    }
   ],
   "source": [
    "def visualise(df):\n",
    "    conversion_rates = df.groupby('group')['converted']\n",
    "\n",
    " \n",
    "\n",
    "    std_p = lambda x: np.std(x, ddof=0)              # Std. deviation of the proportion\n",
    "    se_p = lambda x: stats.sem(x, ddof=0)            # Std. error of the proportion \n",
    "                                                     # (std / sqrt(n))\n",
    "\n",
    " \n",
    "\n",
    "    conversion_rates = conversion_rates.agg([np.mean, std_p, se_p])\n",
    "    conversion_rates.columns = ['conversion_rate', 'std_deviation', 'std_error']\n",
    "\n",
    " \n",
    "\n",
    "    conversion_rates.style.format('{:.3f}')\n",
    "    print(conversion_rates)\n",
    "     \n",
    "    plt.figure(figsize=(8,6))\n",
    "\n",
    " \n",
    "\n",
    "    sns.barplot(x=df['group'], y=df['converted'], ci=False)\n",
    "\n",
    " \n",
    "\n",
    "    plt.ylim(0, 0.17)\n",
    "    plt.title('Conversion rate by group')\n",
    "    plt.xlabel('Group')\n",
    "    plt.ylabel('Converted (proportion)');\n",
    "\n",
    " \n",
    "\n",
    "visualise(df)     "
   ]
  },
  {
   "cell_type": "markdown",
   "id": "9c550bb7",
   "metadata": {},
   "source": [
    "Based on the graphs, the two designs performed very similarly.\n",
    "\n",
    "The new design performs slightly better average conversion rate.\n"
   ]
  },
  {
   "cell_type": "markdown",
   "id": "2e3d8ca8",
   "metadata": {},
   "source": [
    "## Calculating effect size based on our expected rates.\n",
    "\n",
    "### calculating sample size needed"
   ]
  },
  {
   "cell_type": "code",
   "execution_count": 31,
   "id": "f6913bf1",
   "metadata": {},
   "outputs": [
    {
     "name": "stdout",
     "output_type": "stream",
     "text": [
      "We would need at least 4720 observation for each group and have a 90% chance to test it is significantly significant\n"
     ]
    }
   ],
   "source": [
    "import scipy.stats as stats\n",
    "import statsmodels.stats.api as sms\n",
    "from math import ceil\n",
    "\n",
    "#calculate effect sizze based on our expected rates\n",
    "effect_size = sms.proportion_effectsize(0.13, 0.15)\n",
    "required_n = sms.NormalIndPower().solve_power(\n",
    "    effect_size,\n",
    "    power=0.8,\n",
    "    alpha=0.05,\n",
    "    ratio=1)\n",
    "\n",
    "#calculate sample size needed \n",
    "\n",
    "required_n = ceil(required_n)\n",
    "print('We would need at least {0} observation for each group and have a 90% chance to test it is significantly significant'.format(required_n))"
   ]
  },
  {
   "cell_type": "code",
   "execution_count": 32,
   "id": "69313e52",
   "metadata": {},
   "outputs": [],
   "source": [
    "control_sample = df[df['group'] == 'control'].sample(n=required_n, random_state =22)\n",
    "\n",
    "treatment_sample = df[df['group'] == 'treatment'].sample(n=required_n, random_state =22)\n",
    "\n",
    "ab_test = pd.concat([control_sample, treatment_sample], axis = 0)\n",
    "ab_test.reset_index(drop=True, inplace = True)"
   ]
  },
  {
   "cell_type": "code",
   "execution_count": 33,
   "id": "f82b655a",
   "metadata": {},
   "outputs": [
    {
     "name": "stdout",
     "output_type": "stream",
     "text": [
      "p-value: 0.232. there is no significant difference between treatment and control group\n",
      "\n",
      "z statistic: 1.19\n",
      "ci 95% for control group: [0.118, 0.122]\n",
      "ci 95% for treatment group: [0.117, 0.120]\n"
     ]
    }
   ],
   "source": [
    "from statsmodels.stats.proportion import proportions_ztest, proportion_confint\n",
    "def ZTest(df):\n",
    "    control_results = df[df['group'] == 'control']['converted']\n",
    "    treatment_results = df[df['group'] == 'treatment']['converted']\n",
    "    n_con = control_results.count()\n",
    "    n_treat = treatment_results.count()\n",
    "    successes = [control_results.sum(), treatment_results.sum()]\n",
    "    nobs = [n_con, n_treat]\n",
    "\n",
    " \n",
    "\n",
    "    z_stat, pval = proportions_ztest(successes, nobs=nobs)\n",
    "    (lower_con, lower_treat), (upper_con, upper_treat) = proportion_confint(successes, nobs=nobs, alpha=0.05)\n",
    "\n",
    " \n",
    "\n",
    "    if pval < 0.05:\n",
    "        print(f'p-value: {pval:.3f}. there is a significant difference between treatment and control group')\n",
    "    else:\n",
    "        print(f'p-value: {pval:.3f}. there is no significant difference between treatment and control group')\n",
    "        \n",
    "    print('')   \n",
    "    print(f'z statistic: {z_stat:.2f}')     \n",
    "    print(f'ci 95% for control group: [{lower_con:.3f}, {upper_con:.3f}]')\n",
    "    print(f'ci 95% for treatment group: [{lower_treat:.3f}, {upper_treat:.3f}]')\n",
    "\n",
    " \n",
    "\n",
    "ZTest(df)"
   ]
  },
  {
   "attachments": {},
   "cell_type": "markdown",
   "id": "22f65659",
   "metadata": {},
   "source": [
    "<img src=\"downloads/MicrosoftTeams-image.png\">"
   ]
  },
  {
   "cell_type": "code",
   "execution_count": 35,
   "id": "0323cd14",
   "metadata": {},
   "outputs": [
    {
     "name": "stdout",
     "output_type": "stream",
     "text": [
      "                 sum_sq      df         F  PR(>F)\n",
      "landing_page    13.8153     1.0  126.7468     0.0\n",
      "group           15.4583     1.0  141.8203     0.0\n",
      "Residual      1028.7345  9438.0       NaN     NaN\n"
     ]
    }
   ],
   "source": [
    "import statsmodels.formula.api as smf\n",
    "from statsmodels.stats.anova import anova_lm\n",
    "model = smf.ols(formula = 'converted ~ landing_page + group ', data= ab_test).fit()\n",
    "aov_table = anova_lm(model,typ = 2)\n",
    "print(np.round(aov_table,4))"
   ]
  },
  {
   "cell_type": "code",
   "execution_count": null,
   "id": "d839fbcf",
   "metadata": {},
   "outputs": [],
   "source": []
  }
 ],
 "metadata": {
  "kernelspec": {
   "display_name": "Python 3 (ipykernel)",
   "language": "python",
   "name": "python3"
  },
  "language_info": {
   "codemirror_mode": {
    "name": "ipython",
    "version": 3
   },
   "file_extension": ".py",
   "mimetype": "text/x-python",
   "name": "python",
   "nbconvert_exporter": "python",
   "pygments_lexer": "ipython3",
   "version": "3.9.7"
  }
 },
 "nbformat": 4,
 "nbformat_minor": 5
}
